{
 "cells": [
  {
   "cell_type": "markdown",
   "metadata": {},
   "source": [
    "# Camera API demo (or something)"
   ]
  },
  {
   "cell_type": "markdown",
   "metadata": {},
   "source": [
    "## Setup"
   ]
  },
  {
   "cell_type": "markdown",
   "metadata": {},
   "source": [
    "### Modules"
   ]
  },
  {
   "cell_type": "code",
   "execution_count": 10,
   "metadata": {},
   "outputs": [],
   "source": [
    "from pathlib import Path\n",
    "\n",
    "from ids_peak import ids_peak as idsp\n",
    "from ids_peak_ipl import ids_peak_ipl as idsppl\n",
    "import numpy"
   ]
  },
  {
   "cell_type": "markdown",
   "metadata": {},
   "source": [
    "### Data"
   ]
  },
  {
   "cell_type": "code",
   "execution_count": 11,
   "metadata": {},
   "outputs": [],
   "source": [
    "DIR_CONFIGS = \"configs\"\n",
    "FILENAME_CONFIG = \"cam_ids_config.cset\"\n",
    "\n",
    "path_config = Path(DIR_CONFIGS) / FILENAME_CONFIG"
   ]
  },
  {
   "cell_type": "markdown",
   "metadata": {},
   "source": [
    "### Initialization"
   ]
  },
  {
   "cell_type": "code",
   "execution_count": 12,
   "metadata": {},
   "outputs": [
    {
     "ename": "BadAccessException",
     "evalue": "Error-Code: 4 (PEAK_RETURN_CODE_BAD_ACCESS) | Error-Description: [Function: IFOpenDevice | Error-Code: -1004 (GC_ERR_RESOURCE_IN_USE) | Error-Text: Module 1409f4e6288c_U3-36PxXLS-C-0 is open already!",
     "output_type": "error",
     "traceback": [
      "\u001b[0;31m---------------------------------------------------------------------------\u001b[0m",
      "\u001b[0;31mBadAccessException\u001b[0m                        Traceback (most recent call last)",
      "Cell \u001b[0;32mIn[12], line 5\u001b[0m\n\u001b[1;32m      3\u001b[0m device_manager \u001b[38;5;241m=\u001b[39m idsp\u001b[38;5;241m.\u001b[39mDeviceManager\u001b[38;5;241m.\u001b[39mInstance()\n\u001b[1;32m      4\u001b[0m device_manager\u001b[38;5;241m.\u001b[39mUpdate()\n\u001b[0;32m----> 5\u001b[0m device \u001b[38;5;241m=\u001b[39m \u001b[43mdevice_manager\u001b[49m\u001b[38;5;241;43m.\u001b[39;49m\u001b[43mDevices\u001b[49m\u001b[43m(\u001b[49m\u001b[43m)\u001b[49m\u001b[43m[\u001b[49m\u001b[38;5;241;43m0\u001b[39;49m\u001b[43m]\u001b[49m\u001b[38;5;241;43m.\u001b[39;49m\u001b[43mOpenDevice\u001b[49m\u001b[43m(\u001b[49m\u001b[43midsp\u001b[49m\u001b[38;5;241;43m.\u001b[39;49m\u001b[43mDeviceAccessType_Control\u001b[49m\u001b[43m)\u001b[49m\n",
      "File \u001b[0;32m/usr/local/lib/python3.10/dist-packages/ids_peak/ids_peak.py:4964\u001b[0m, in \u001b[0;36mDeviceDescriptor.OpenDevice\u001b[0;34m(self, accessType)\u001b[0m\n\u001b[1;32m   4948\u001b[0m \u001b[38;5;28;01mdef\u001b[39;00m \u001b[38;5;21mOpenDevice\u001b[39m(\u001b[38;5;28mself\u001b[39m, accessType: \u001b[38;5;124m\"\u001b[39m\u001b[38;5;124mint\u001b[39m\u001b[38;5;124m\"\u001b[39m) \u001b[38;5;241m-\u001b[39m\u001b[38;5;241m>\u001b[39m \u001b[38;5;124m\"\u001b[39m\u001b[38;5;124mDevice\u001b[39m\u001b[38;5;124m\"\u001b[39m:\n\u001b[1;32m   4949\u001b[0m     \u001b[38;5;124mr\u001b[39m\u001b[38;5;124;03m\"\"\"\u001b[39;00m\n\u001b[1;32m   4950\u001b[0m \u001b[38;5;124;03m    Opens the Device.\u001b[39;00m\n\u001b[1;32m   4951\u001b[0m \n\u001b[0;32m   (...)\u001b[0m\n\u001b[1;32m   4962\u001b[0m \u001b[38;5;124;03m    :raises: InternalErrorException An internal error has occurred.\u001b[39;00m\n\u001b[1;32m   4963\u001b[0m \u001b[38;5;124;03m    \"\"\"\u001b[39;00m\n\u001b[0;32m-> 4964\u001b[0m     \u001b[38;5;28;01mreturn\u001b[39;00m \u001b[43m_ids_peak_python_interface\u001b[49m\u001b[38;5;241;43m.\u001b[39;49m\u001b[43mDeviceDescriptor_OpenDevice\u001b[49m\u001b[43m(\u001b[49m\u001b[38;5;28;43mself\u001b[39;49m\u001b[43m,\u001b[49m\u001b[43m \u001b[49m\u001b[43maccessType\u001b[49m\u001b[43m)\u001b[49m\n",
      "\u001b[0;31mBadAccessException\u001b[0m: Error-Code: 4 (PEAK_RETURN_CODE_BAD_ACCESS) | Error-Description: [Function: IFOpenDevice | Error-Code: -1004 (GC_ERR_RESOURCE_IN_USE) | Error-Text: Module 1409f4e6288c_U3-36PxXLS-C-0 is open already!"
     ]
    }
   ],
   "source": [
    "idsp.Library.Initialize()\n",
    "\n",
    "device_manager = idsp.DeviceManager.Instance()\n",
    "device_manager.Update()\n",
    "device = device_manager.Devices()[0].OpenDevice(idsp.DeviceAccessType_Control)"
   ]
  },
  {
   "cell_type": "markdown",
   "metadata": {},
   "source": [
    "## Loading camera config"
   ]
  },
  {
   "cell_type": "code",
   "execution_count": 14,
   "metadata": {},
   "outputs": [
    {
     "name": "stdout",
     "output_type": "stream",
     "text": [
      "15000.06996116532\n"
     ]
    }
   ],
   "source": [
    "node_map_remote_device = device.RemoteDevice().NodeMaps()[0]\n",
    "\n",
    "min_exposure_time = node_map_remote_device.FindNode(\"ExposureTime\").Minimum()\n",
    "max_exposure_time = node_map_remote_device.FindNode(\"ExposureTime\").Maximum()\n",
    "\n",
    "exposure_time = node_map_remote_device.FindNode(\"ExposureTime\").Value()\n",
    "\n",
    "print(exposure_time)"
   ]
  },
  {
   "cell_type": "code",
   "execution_count": 17,
   "metadata": {},
   "outputs": [
    {
     "data": {
      "text/plain": [
       "'configs/cam_ids_config.cset'"
      ]
     },
     "execution_count": 17,
     "metadata": {},
     "output_type": "execute_result"
    }
   ],
   "source": [
    "str(path_config)"
   ]
  },
  {
   "cell_type": "code",
   "execution_count": 18,
   "metadata": {},
   "outputs": [],
   "source": [
    "node_map_remote_device.LoadFromFile(str(path_config))"
   ]
  },
  {
   "cell_type": "code",
   "execution_count": null,
   "metadata": {},
   "outputs": [],
   "source": [
    "node_map_remote_device.StoreToFile(\"test\")"
   ]
  },
  {
   "cell_type": "code",
   "execution_count": 19,
   "metadata": {},
   "outputs": [],
   "source": [
    "idsp.Library.Close()"
   ]
  }
 ],
 "metadata": {
  "kernelspec": {
   "display_name": ".venv",
   "language": "python",
   "name": "python3"
  },
  "language_info": {
   "codemirror_mode": {
    "name": "ipython",
    "version": 3
   },
   "file_extension": ".py",
   "mimetype": "text/x-python",
   "name": "python",
   "nbconvert_exporter": "python",
   "pygments_lexer": "ipython3",
   "version": "3.10.12"
  }
 },
 "nbformat": 4,
 "nbformat_minor": 2
}
