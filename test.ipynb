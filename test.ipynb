{
 "cells": [
  {
   "cell_type": "markdown",
   "metadata": {},
   "source": [
    "# Camera API demo (or something)"
   ]
  },
  {
   "cell_type": "markdown",
   "metadata": {},
   "source": [
    "## Setup"
   ]
  },
  {
   "cell_type": "markdown",
   "metadata": {},
   "source": [
    "### Modules"
   ]
  },
  {
   "cell_type": "code",
   "execution_count": 18,
   "metadata": {},
   "outputs": [],
   "source": [
    "from pathlib import Path\n",
    "import threading\n",
    "\n",
    "import camera\n",
    "import ids_peak.ids_peak as idsp\n",
    "import ids_peak_ipl.ids_peak_ipl as idsp_ipl\n",
    "import numpy"
   ]
  },
  {
   "cell_type": "markdown",
   "metadata": {},
   "source": [
    "### Data"
   ]
  },
  {
   "cell_type": "code",
   "execution_count": 19,
   "metadata": {},
   "outputs": [],
   "source": [
    "DIR_CONFIGS = \"configs\"\n",
    "FILENAME_CONFIG = \"cam_ids_config.cset\"\n",
    "\n",
    "path_config = Path(DIR_CONFIGS) / FILENAME_CONFIG"
   ]
  },
  {
   "cell_type": "markdown",
   "metadata": {},
   "source": [
    "### Initialization"
   ]
  },
  {
   "cell_type": "code",
   "execution_count": 20,
   "metadata": {},
   "outputs": [
    {
     "name": "stdout",
     "output_type": "stream",
     "text": [
      "False\n"
     ]
    }
   ],
   "source": [
    "idsp.Library.Initialize()\n",
    "\n",
    "device_manager = idsp.DeviceManager.Instance()\n",
    "device_manager.Update()\n",
    "device_descriptors = device_manager.Devices()\n",
    "print(device_descriptors.empty())"
   ]
  },
  {
   "cell_type": "markdown",
   "metadata": {},
   "source": [
    "## Loading camera config"
   ]
  },
  {
   "cell_type": "code",
   "execution_count": 30,
   "metadata": {},
   "outputs": [
    {
     "name": "stdout",
     "output_type": "stream",
     "text": [
      "U3-36PxXLS-C\n",
      "IDS U3V Interface\n",
      "IDS GenICam Producer (U3V)\n",
      "1.15.0.0\n"
     ]
    }
   ],
   "source": [
    "device_descriptor = device_manager.Devices()[0]\n",
    "\n",
    "name_model = device_descriptor.ModelName()\n",
    "name_interface = device_descriptor.ParentInterface().DisplayName()\n",
    "name_system = device_descriptor.ParentInterface().ParentSystem().DisplayName()\n",
    "version_system = device_descriptor.ParentInterface().ParentSystem().Version()\n",
    "\n",
    "print(name_model)\n",
    "print(name_interface)\n",
    "print(name_system)\n",
    "print(version_system)"
   ]
  },
  {
   "cell_type": "code",
   "execution_count": 24,
   "metadata": {},
   "outputs": [],
   "source": [
    "device = device_descriptor.OpenDevice(idsp.DeviceAccessType_Control)"
   ]
  },
  {
   "cell_type": "code",
   "execution_count": 25,
   "metadata": {},
   "outputs": [],
   "source": [
    "nodemap_remote_device = device.RemoteDevice().NodeMaps()[0]"
   ]
  },
  {
   "cell_type": "code",
   "execution_count": 33,
   "metadata": {},
   "outputs": [
    {
     "name": "stdout",
     "output_type": "stream",
     "text": [
      "onsemi AR2020CSSC13SMTA0\n"
     ]
    }
   ],
   "source": [
    "name_sensor = nodemap_remote_device.FindNode(\"SensorName\").Value()\n",
    "\n",
    "print(name_sensor)"
   ]
  },
  {
   "cell_type": "code",
   "execution_count": 37,
   "metadata": {},
   "outputs": [
    {
     "name": "stdout",
     "output_type": "stream",
     "text": [
      "15000.06996116532\n",
      "31.712621482379113\n",
      "1999005.0951417673\n",
      "5136\n",
      "3856\n",
      "5112\n",
      "3840\n"
     ]
    }
   ],
   "source": [
    "min_exposure_time = nodemap_remote_device.FindNode(\"ExposureTime\").Minimum()\n",
    "max_exposure_time = nodemap_remote_device.FindNode(\"ExposureTime\").Maximum()\n",
    "max_width = nodemap_remote_device.FindNode(\"WidthMax\").Value()\n",
    "max_height = nodemap_remote_device.FindNode(\"HeightMax\").Value()\n",
    "\n",
    "exposure_time = nodemap_remote_device.FindNode(\"ExposureTime\").Value()\n",
    "\n",
    "print(exposure_time)\n",
    "print(min_exposure_time)\n",
    "print(max_exposure_time)\n",
    "print(max_width)\n",
    "print(max_height)\n",
    "print(nodemap_remote_device.FindNode(\"Width\").Value())\n",
    "print(nodemap_remote_device.FindNode(\"Height\").Value())"
   ]
  },
  {
   "cell_type": "code",
   "execution_count": 17,
   "metadata": {},
   "outputs": [
    {
     "data": {
      "text/plain": [
       "'configs/cam_ids_config.cset'"
      ]
     },
     "execution_count": 17,
     "metadata": {},
     "output_type": "execute_result"
    }
   ],
   "source": [
    "str(path_config)"
   ]
  },
  {
   "cell_type": "code",
   "execution_count": 18,
   "metadata": {},
   "outputs": [],
   "source": [
    "def load_settings():\n",
    "    nodemap_remote_device.LoadFromFile(str(path_config))"
   ]
  },
  {
   "cell_type": "code",
   "execution_count": null,
   "metadata": {},
   "outputs": [],
   "source": [
    "def store_settings():\n",
    "    nodemap_remote_device.StoreToFile(\"test_settings.cset\")"
   ]
  },
  {
   "cell_type": "code",
   "execution_count": null,
   "metadata": {},
   "outputs": [],
   "source": [
    "if not camera_device.start_acquisition():\n",
    "        print(\"Unable to start acquisition!\")\n",
    "        return\n",
    "    else:\n",
    "        print(\"Acquisition started\")\n",
    "\n",
    "    # The acquisition thread takes care of waiting for finished buffers\n",
    "    # and either recording the images or passing them to the live view\n",
    "    thread = threading.Thread(target=camera_device.acquisition_thread, args=())\n",
    "    ui.acquisition_thread = thread\n",
    "    thread.start()\n",
    "    ui.start_interface()"
   ]
  },
  {
   "cell_type": "code",
   "execution_count": null,
   "metadata": {},
   "outputs": [],
   "source": [
    "def capture():\n",
    "    pass"
   ]
  },
  {
   "cell_type": "code",
   "execution_count": 17,
   "metadata": {},
   "outputs": [],
   "source": [
    "# Reset?\n",
    "# device.\n",
    "\n",
    "idsp.Library.Close()"
   ]
  }
 ],
 "metadata": {
  "kernelspec": {
   "display_name": ".venv",
   "language": "python",
   "name": "python3"
  },
  "language_info": {
   "codemirror_mode": {
    "name": "ipython",
    "version": 3
   },
   "file_extension": ".py",
   "mimetype": "text/x-python",
   "name": "python",
   "nbconvert_exporter": "python",
   "pygments_lexer": "ipython3",
   "version": "3.10.12"
  }
 },
 "nbformat": 4,
 "nbformat_minor": 2
}
