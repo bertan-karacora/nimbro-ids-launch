{
 "cells": [
  {
   "cell_type": "code",
   "execution_count": null,
   "metadata": {},
   "outputs": [],
   "source": []
  },
  {
   "cell_type": "code",
   "execution_count": null,
   "metadata": {},
   "outputs": [],
   "source": [
    "# try:\n",
    "#   # file contains the fully qualified path to the file\n",
    "#   file = \"c:/....\"\n",
    "\n",
    "#   # Save to file\n",
    "#    node_map_remote_device.StoreToFile(file)\n",
    "\n",
    "#   # Load from file\n",
    "#    node_map_remote_device.LoadFromFile(file)\n",
    "# except Exception as e:\n",
    "#   print(e)"
   ]
  },
  {
   "cell_type": "code",
   "execution_count": null,
   "metadata": {},
   "outputs": [],
   "source": [
    "# python API für camera\n",
    "# Setup repo"
   ]
  }
 ],
 "metadata": {
  "language_info": {
   "name": "python"
  }
 },
 "nbformat": 4,
 "nbformat_minor": 2
}
